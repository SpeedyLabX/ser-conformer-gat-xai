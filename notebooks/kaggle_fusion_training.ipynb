{
 "cells": [
  {
   "cell_type": "markdown",
   "metadata": {},
   "source": [
    "# Kaggle Training Entry Point\n",
    "\n",
    "This notebook prepares the workspace, installs dependencies, rewrites the config with Kaggle paths, and launches training. Attach the datasets that host:\n",
    "\n",
    "- the repository snapshot (read-only under `/kaggle/input/...`)\n",
    "- pretrained encoders (`artifacts/audio-encoder`, `artifacts/roberta-text-encoder`)\n",
    "- IEMOCAP raw data (`IEMOCAP_full_release`) and `iemocap_manifest.jsonl`\n",
    "\n",
    "Update the constants below if your dataset names differ."
   ]
  },
  {
   "cell_type": "code",
   "execution_count": null,
   "metadata": {},
   "outputs": [],
   "source": [
    "!rm -rf /kaggle/working/ser-conformer-gat-xai\n",
    "!git clone https://github.com/SpeedyLabX/ser-conformer-gat-xai.git /kaggle/working/ser-conformer-gat-xai"
   ]
  },
  {
   "cell_type": "code",
   "execution_count": null,
   "metadata": {},
   "outputs": [],
   "source": [
    "from pathlib import Path\n",
    "import shutil\n",
    "\n",
    "WORK_DIR = Path(\"/kaggle/working/ser-conformer-gat-xai\")\n",
    "ARTIFACTS_DATASET = Path(\"/kaggle/input/text-audio-encoders/pytorch/default/1/artifacts\")\n",
    "IEMOCAP_ROOT = Path(\"/kaggle/input/iemocapfullrelease/IEMOCAP_full_release\")\n",
    "MANIFEST_PATH = Path(\"/kaggle/input/iemocap-manifest-jsonl/iemocap_manifest.jsonl\")\n",
    "\n",
    "assert WORK_DIR.exists(), \"Repository clone missing\"\n",
    "assert ARTIFACTS_DATASET.exists(), \"Encoder dataset path incorrect\"\n",
    "assert IEMOCAP_ROOT.exists(), \"IEMOCAP dataset path incorrect\"\n",
    "assert MANIFEST_PATH.exists(), \"Manifest dataset path incorrect\"\n",
    "\n",
    "shutil.copytree(ARTIFACTS_DATASET, WORK_DIR / \"artifacts\", dirs_exist_ok=True)\n",
    "print(\"Workspace ready at\", WORK_DIR)"
   ]
  },
  {
   "cell_type": "code",
   "execution_count": null,
   "metadata": {},
   "outputs": [],
   "source": [
    "!pip install --quiet torch==2.2.0 torchaudio==2.2.0 --index-url https://download.pytorch.org/whl/cu118\n",
    "!pip install --quiet transformers soundfile scikit-learn pyyaml tqdm matplotlib networkx"
   ]
  },
  {
   "cell_type": "code",
   "execution_count": null,
   "metadata": {},
   "outputs": [],
   "source": [
    "import yaml\n",
    "from pathlib import Path\n",
    "\n",
    "WORK_DIR = Path(\"/kaggle/working/ser-conformer-gat-xai\")\n",
    "cfg_path = WORK_DIR / \"configs\" / \"iemocap.yaml\"\n",
    "cfg = yaml.safe_load(cfg_path.read_text())\n",
    "\n",
    "cfg.setdefault(\"data\", {})\n",
    "cfg[\"data\"][\"root\"] = str(IEMOCAP_ROOT)\n",
    "cfg[\"data\"][\"manifest\"] = str(MANIFEST_PATH)\n",
    "cfg[\"data\"][\"num_workers\"] = 0  # safer on Kaggle\n",
    "cfg.setdefault(\"model\", {})\n",
    "cfg[\"model\"].setdefault(\"audio\", {})\n",
    "cfg[\"model\"][\"audio\"][\"checkpoint\"] = str(WORK_DIR / \"artifacts\" / \"audio-encoder\" / \"conformer_encoder.pkl\")\n",
    "cfg[\"model\"].setdefault(\"text\", {})\n",
    "cfg[\"model\"][\"text\"][\"checkpoint\"] = str(WORK_DIR / \"artifacts\" / \"roberta-text-encoder\")\n",
    "cfg.setdefault(\"trainer\", {})\n",
    "cfg[\"trainer\"][\"batch_size\"] = cfg[\"trainer\"].get(\"batch_size\", 8)\n",
    "cfg[\"artifacts_dir\"] = str(WORK_DIR / \"artifacts\")\n",
    "\n",
    "resolved_cfg = WORK_DIR / \"configs\" / \"iemocap_kaggle.yaml\"\n",
    "resolved_cfg.write_text(yaml.safe_dump(cfg, sort_keys=False))\n",
    "print(\"Resolved config written to\", resolved_cfg)"
   ]
  },
  {
   "cell_type": "code",
   "execution_count": null,
   "metadata": {},
   "outputs": [],
   "source": [
    "import os\n",
    "import subprocess\n",
    "import sys\n",
    "\n",
    "WORK_DIR = \"/kaggle/working/ser-conformer-gat-xai\"\n",
    "os.chdir(WORK_DIR)\n",
    "if \"src\" not in sys.path:\n",
    "    sys.path.append(\"src\")\n",
    "\n",
    "result = subprocess.run([\n",
    "    \"python\",\n",
    "    \"-m\",\n",
    "    \"src.cli.train\",\n",
    "    \"--config\",\n",
    "    \"configs/iemocap_kaggle.yaml\",\n",
    "    \"--dry-run\",\n",
    "], check=True)\n",
    "print(\"Dry run return code:\", result.returncode)"
   ]
  },
  {
   "cell_type": "code",
   "execution_count": null,
   "metadata": {},
   "outputs": [],
   "source": [
    "import os\n",
    "import subprocess\n",
    "import sys\n",
    "\n",
    "WORK_DIR = \"/kaggle/working/ser-conformer-gat-xai\"\n",
    "os.chdir(WORK_DIR)\n",
    "if \"src\" not in sys.path:\n",
    "    sys.path.append(\"src\")\n",
    "\n",
    "subprocess.run([\n",
    "    \"python\",\n",
    "    \"-m\",\n",
    "    \"src.cli.train\",\n",
    "    \"--config\",\n",
    "    \"configs/iemocap_kaggle.yaml\",\n",
    "], check=True)"
   ]
  }
 ],
 "metadata": {
  "kernelspec": {
   "display_name": "Python 3",
   "language": "python",
   "name": "python3"
  },
  "language_info": {
   "name": "python",
   "version": ""
  }
 },
 "nbformat": 4,
 "nbformat_minor": 5
}
